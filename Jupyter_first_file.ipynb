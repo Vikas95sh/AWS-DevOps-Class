{
 "cells": [
  {
   "cell_type": "markdown",
   "metadata": {},
   "source": [
    "# Python Learning\n",
    "\n",
    "\n"
   ]
  },
  {
   "cell_type": "markdown",
   "metadata": {},
   "source": [
    "### Variables \n",
    "\n",
    "- Variables are containers for storing data values.\n",
    "- Variables do not need to be declared with any particular type, and can even change type after they have been set."
   ]
  },
  {
   "cell_type": "code",
   "execution_count": 1,
   "metadata": {},
   "outputs": [
    {
     "name": "stdout",
     "output_type": "stream",
     "text": [
      "Jupiter\n",
      "5\n",
      "Saurabh\n",
      "10\n",
      "10\n",
      "10\n",
      "20\n",
      "30\n",
      "40\n"
     ]
    }
   ],
   "source": [
    "print(\"Jupiter\")\n",
    "\n",
    "x = 5\n",
    "y = 'Saurabh'\n",
    "print(x)\n",
    "print(y)\n",
    "\n",
    "a = b = c =10\n",
    "\n",
    "x, y, z = 20,30,40\n",
    "\n",
    "print(a)\n",
    "print(b)\n",
    "print(c)\n",
    "print(x)\n",
    "print(y)\n",
    "print(z)"
   ]
  },
  {
   "cell_type": "markdown",
   "metadata": {},
   "source": [
    "### List\n",
    "\n",
    "- Lists are used to store multiple items in a single variable.\n",
    "- Lists are one of 4 built-in data types in Python used to store collections of data, the other 3 are Tuple, Set, and Dictionary, all with different qualities and usage."
   ]
  },
  {
   "cell_type": "code",
   "execution_count": 2,
   "metadata": {},
   "outputs": [
    {
     "name": "stdout",
     "output_type": "stream",
     "text": [
      "['Anchit', 'Shivam', 'Sudish']\n",
      "['BMW', 'Cooper', 'Scoda'] ['Patna', 'Gopalganj', 'Madhubani']\n",
      "....................................................................................................\n",
      "['BMW', 'Cooper', 'Scoda']\n",
      "BMW Cooper Scoda\n"
     ]
    }
   ],
   "source": [
    "name = [\"Anchit\",\"Shivam\" , \"Sudish\"]\n",
    "print(name)\n",
    "\n",
    "car=[\"BMW\",\"Cooper\",\"Scoda\"]\n",
    "city=[\"Patna\",\"Gopalganj\",\"Madhubani\"]\n",
    "\n",
    "print(car,city)\n",
    "\n",
    "\n",
    "print(\".\"*100)\n",
    "\n",
    "print(car[0:3])\n",
    "print(car[0],car[1],car[2])\n",
    "\n",
    "print(list.append{Amit})"
   ]
  },
  {
   "cell_type": "markdown",
   "metadata": {},
   "source": [
    "# List Append \n"
   ]
  },
  {
   "cell_type": "code",
   "execution_count": null,
   "metadata": {},
   "outputs": [],
   "source": []
  }
 ],
 "metadata": {
  "kernelspec": {
   "display_name": "Python 3",
   "language": "python",
   "name": "python3"
  },
  "language_info": {
   "codemirror_mode": {
    "name": "ipython",
    "version": 3
   },
   "file_extension": ".py",
   "mimetype": "text/x-python",
   "name": "python",
   "nbconvert_exporter": "python",
   "pygments_lexer": "ipython3",
   "version": "3.12.1"
  }
 },
 "nbformat": 4,
 "nbformat_minor": 2
}
