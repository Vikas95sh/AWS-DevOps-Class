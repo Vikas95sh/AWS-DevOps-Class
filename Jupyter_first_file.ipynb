{
 "cells": [
  {
   "cell_type": "markdown",
   "metadata": {},
   "source": [
    "# Python Learning\n",
    "\n",
    "\n"
   ]
  },
  {
   "cell_type": "markdown",
   "metadata": {},
   "source": [
    "### Variables \n",
    "\n",
    "- Variables are containers for storing data values.\n",
    "- Variables do not need to be declared with any particular type, and can even change type after they have been set."
   ]
  },
  {
   "cell_type": "code",
   "execution_count": 215,
   "metadata": {},
   "outputs": [
    {
     "name": "stdout",
     "output_type": "stream",
     "text": [
      "Jupiter\n",
      "5\n",
      "Saurabh\n",
      "10\n",
      "10\n",
      "10\n",
      "20\n",
      "30\n",
      "40\n"
     ]
    }
   ],
   "source": [
    "print(\"Jupiter\")\n",
    "\n",
    "x = 5\n",
    "y = 'Saurabh'\n",
    "print(x)\n",
    "print(y)\n",
    "\n",
    "a = b = c =10\n",
    "\n",
    "x, y, z = 20,30,40\n",
    "\n",
    "print(a)\n",
    "print(b)\n",
    "print(c)\n",
    "print(x)\n",
    "print(y)\n",
    "print(z)"
   ]
  },
  {
   "cell_type": "markdown",
   "metadata": {},
   "source": [
    "### List\n",
    "\n",
    "- Lists are used to store multiple items in a single variable.\n",
    "- Lists are one of 4 built-in data types in Python used to store collections of data, the other 3 are Tuple, Set, and Dictionary, all with different qualities and usage.\n"
   ]
  },
  {
   "cell_type": "code",
   "execution_count": 216,
   "metadata": {},
   "outputs": [
    {
     "name": "stdout",
     "output_type": "stream",
     "text": [
      "['Anchit', 'Shivam', 'Sudish']\n",
      "['BMW', 'Cooper', 'Scoda'] ['Patna', 'Gopalganj', 'Madhubani']\n",
      "....................................................................................................\n",
      "['BMW', 'Cooper', 'Scoda']\n",
      "BMW Cooper Scoda\n",
      "12\n",
      "2\n"
     ]
    }
   ],
   "source": [
    "name = [\"Anchit\",\"Shivam\" , \"Sudish\"]\n",
    "print(name)\n",
    "\n",
    "car=[\"BMW\",\"Cooper\",\"Scoda\"]\n",
    "city=[\"Patna\",\"Gopalganj\",\"Madhubani\"]\n",
    "\n",
    "print(car,city)\n",
    "\n",
    "\n",
    "print(\".\"*100)\n",
    "\n",
    "print(car[0:3]) ## list\n",
    "print(car[0],car[1],car[2]) ##list index\n",
    "\n",
    "\n",
    "## use of append \n",
    "\n",
    "\"\"\"\n",
    "## append example\n",
    "\n",
    "(name.append(\"Amit\"))\n",
    "print(name)\n",
    "\n",
    "\n",
    "xyz = [1,2,3,4,5]\n",
    "print(xyz)\n",
    "\n",
    "(xyz.append(6))\n",
    "print(xyz)\n",
    "\n",
    "\"\"\"\n",
    "## use of length in string and list\n",
    "\n",
    "a = \"vikas sharma\"\n",
    "print(len(a))\n",
    "\n",
    "\n",
    "a = [\"vikas\",\"sharma\"]\n",
    "print(len(a))\n"
   ]
  },
  {
   "cell_type": "markdown",
   "metadata": {},
   "source": [
    "### Dictionary\n",
    "- Dictionaries are used to store data values in key:value pairs.\n",
    "- A dictionary is a collection which is ordered*, changeable and do not allow duplicates.\n",
    "- Dictionaries are written with curly brackets, and have keys and values: {\"key1\":\"value1\",\"key2\":\"value2\"}\n",
    "- Dictionaries is a collection which is unordered and changeable\n",
    "\n",
    "\n",
    "ExampleGet your own Python Server\n",
    "Create and print a dictionary:\n",
    "\n",
    "thisdict = {\n",
    "  \"brand\": \"Ford\",\n",
    "  \"model\": \"Mustang\",\n",
    "  \"year\": 1964\n",
    "}\n",
    "print(thisdict)\n",
    "\n"
   ]
  },
  {
   "cell_type": "code",
   "execution_count": 225,
   "metadata": {},
   "outputs": [
    {
     "name": "stdout",
     "output_type": "stream",
     "text": [
      "BMW x3 2013\n",
      "3\n",
      "{'make': 'bmw', 'modle': 'x3', 'year': 2013}\n"
     ]
    }
   ],
   "source": [
    "cars = {\"make\":\"BMW\",\"modle\":\"x3\",\"year\":2013}\n",
    "\n",
    "print(cars[\"make\"],cars[\"modle\"],cars[\"year\"])\n",
    "print(len(cars)) \n",
    "\n",
    "d={}\n",
    "d['make'] = \"bmw\"\n",
    "d[\"modle\"] = \"x3\"\n",
    "d[\"year\"] = 2013\n",
    "\n",
    "print(d)\n",
    "\n"
   ]
  },
  {
   "cell_type": "markdown",
   "metadata": {},
   "source": [
    "### Tuple\n",
    "- Tuples are used to store multiple items in a single variable.\n",
    "\n",
    "- Tuple is one of 4 built-in data types in Python used to store collections of data, the other 3 are List, Set, and Dictionary, all with different qualities and usage.\n",
    "\n",
    "- A tuple is a collection which is ordered and unchangeable.\n",
    "\n",
    "- Tuples are written with round brackets.\n",
    "- Tuples allow duplicate value \n",
    "\n",
    "\n",
    "Example\n",
    "\n",
    "Create a Tuple:\n",
    "\n",
    "thistuple = (\"apple\", \"banana\", \"cherry\")\n",
    "print(thistuple)"
   ]
  },
  {
   "cell_type": "code",
   "execution_count": 233,
   "metadata": {},
   "outputs": [
    {
     "name": "stdout",
     "output_type": "stream",
     "text": [
      "('apple', 'banana', 'cherry')\n",
      "('apple', 'banana', 'cherry', 'mango')\n"
     ]
    }
   ],
   "source": [
    "thistuple = (\"apple\", \"banana\", \"cherry\")\n",
    "print(thistuple)\n",
    "\n",
    "##duplicate value \n",
    "\n",
    "thistuple = (\"apple\", \"banana\", \"cherry\", \"mango\")\n",
    "print(thistuple)"
   ]
  },
  {
   "cell_type": "markdown",
   "metadata": {},
   "source": [
    "### Python Conditions and If statements\n",
    "- Python supports the usual logical conditions from mathematics:\n",
    "\n",
    "- Equals: a == b\n",
    "- Not Equals: a != b\n",
    "- Less than: a < b\n",
    "- Less than or equal to: a <= b\n",
    "- Greater than: a > b\n",
    "- Greater than or equal to: a >= b\n",
    "- These conditions can be used in several ways, most commonly in \"if statements\" and loops.\n",
    "\n",
    "- if : \"if statement\" is written by using the if keyword.\n",
    "- elif : The elif keyword is Python's way of saying \"if the previous conditions were not true, then try this condition\".\n",
    "Example:\n",
    "a = 33\n",
    "b = 33\n",
    "if b > a:\n",
    "  print(\"b is greater than a\")\n",
    "elif a == b:\n",
    "  print(\"a and b are equal\")\n",
    "\n",
    "\n",
    "- else: The else keyword catches anything which isn't caught by the preceding conditions.\n",
    "a = 200\n",
    "b = 33\n",
    "if b > a:\n",
    "  print(\"b is greater than a\")\n",
    "elif a == b:\n",
    "  print(\"a and b are equal\")\n",
    "else:\n",
    "  print(\"a is greater than b\")\n",
    "\n",
    "- Nested If - You can have if statements inside if statements, this is called nested if statements.\n",
    "Example\n",
    "x = 41\n",
    "\n",
    "if x > 10:\n",
    "  print(\"Above ten,\")\n",
    "  if x > 20:\n",
    "    print(\"and also above 20!\")\n",
    "  else:\n",
    "    print(\"but not above 20.\")\n"
   ]
  },
  {
   "cell_type": "code",
   "execution_count": 240,
   "metadata": {},
   "outputs": [
    {
     "name": "stdout",
     "output_type": "stream",
     "text": [
      "b is greater than a\n"
     ]
    }
   ],
   "source": [
    "# LAB if \n",
    "\n",
    "a = 29\n",
    "b=200\n",
    "if b>a:\n",
    "    print(\"b is greater than a\")\n",
    "\n"
   ]
  },
  {
   "cell_type": "code",
   "execution_count": 246,
   "metadata": {},
   "outputs": [
    {
     "name": "stdout",
     "output_type": "stream",
     "text": [
      "a and b both are brother, because both are equal\n"
     ]
    }
   ],
   "source": [
    "# Lab - elif\n",
    "\n",
    "a=33\n",
    "b=33\n",
    "if b>a:\n",
    "    print(\"b is greater than a\")\n",
    "elif a==b:\n",
    "    print(\"a and b both are brother, because both are equal\")"
   ]
  },
  {
   "cell_type": "code",
   "execution_count": 251,
   "metadata": {},
   "outputs": [
    {
     "name": "stdout",
     "output_type": "stream",
     "text": [
      "a is greater than b\n"
     ]
    }
   ],
   "source": [
    "# LAB - Else\n",
    "\n",
    "a=200\n",
    "b=33\n",
    "if b>a:\n",
    "    print(\"b is greater than a\")\n",
    "elif a==b:\n",
    "    print(\"a and b are elual\")\n",
    "else:\n",
    "    print(\"a is greater than b\")"
   ]
  },
  {
   "cell_type": "code",
   "execution_count": 255,
   "metadata": {},
   "outputs": [
    {
     "name": "stdout",
     "output_type": "stream",
     "text": [
      "no\n"
     ]
    }
   ],
   "source": [
    "color=\"red\"\n",
    "if color==\"green\":\n",
    "    print(\"yes\")\n",
    "else:\n",
    "    print(\"no\")\n"
   ]
  },
  {
   "cell_type": "code",
   "execution_count": 258,
   "metadata": {},
   "outputs": [
    {
     "name": "stdout",
     "output_type": "stream",
     "text": [
      "above ten\n",
      "and also above !20\n"
     ]
    }
   ],
   "source": [
    "#nested if - 0\n",
    "x=41\n",
    "if x>10:\n",
    "    print(\"above ten\")\n",
    "    if x>20:\n",
    "        print(\"and also above !20\")\n",
    "    else:\n",
    "        print('but not above 20.')\n",
    "\n",
    "else:\n",
    "    print(\"anything\")\n"
   ]
  },
  {
   "cell_type": "code",
   "execution_count": 260,
   "metadata": {},
   "outputs": [
    {
     "name": "stdout",
     "output_type": "stream",
     "text": [
      "anything\n"
     ]
    }
   ],
   "source": [
    "#nested if - 1\n",
    "x=41\n",
    "if x<10:\n",
    "    print(\"above ten\")\n",
    "    if x>20:\n",
    "        print(\"and also above !20\")\n",
    "    else:\n",
    "        print('but not above 20.')\n",
    "\n",
    "else:\n",
    "    print(\"anything\")"
   ]
  }
 ],
 "metadata": {
  "kernelspec": {
   "display_name": "Python 3",
   "language": "python",
   "name": "python3"
  },
  "language_info": {
   "codemirror_mode": {
    "name": "ipython",
    "version": 3
   },
   "file_extension": ".py",
   "mimetype": "text/x-python",
   "name": "python",
   "nbconvert_exporter": "python",
   "pygments_lexer": "ipython3",
   "version": "3.12.1"
  }
 },
 "nbformat": 4,
 "nbformat_minor": 2
}
